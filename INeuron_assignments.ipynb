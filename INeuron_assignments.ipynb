{
 "cells": [
  {
   "cell_type": "code",
   "execution_count": null,
   "id": "c41c8aac",
   "metadata": {},
   "outputs": [],
   "source": []
  },
  {
   "cell_type": "code",
   "execution_count": 39,
   "id": "12c8f4fe",
   "metadata": {},
   "outputs": [],
   "source": [
    "# Create a function in python to read the text file and replace specific content of the file.\n",
    "fin = open(\"example.txt\", \"rt\")\n",
    "data = fin.read()\n",
    "data = data.replace('placement', 'screening')\n",
    "fin.close()\n",
    "fin = open(\"example.txt\", \"wt\")\n",
    "fin.write(data)\n",
    "fin.close()"
   ]
  },
  {
   "cell_type": "code",
   "execution_count": null,
   "id": "010ce75e",
   "metadata": {},
   "outputs": [],
   "source": []
  },
  {
   "cell_type": "code",
   "execution_count": null,
   "id": "a7ff66ea",
   "metadata": {},
   "outputs": [],
   "source": []
  },
  {
   "cell_type": "code",
   "execution_count": 34,
   "id": "32c2b1f8",
   "metadata": {},
   "outputs": [
    {
     "name": "stdout",
     "output_type": "stream",
     "text": [
      "It has 3 sides\n",
      "It has 5 sides\n"
     ]
    }
   ],
   "source": [
    "# An abstract class can be considered as a blueprint for other classes. \n",
    "# It allows you to create a set of methods that must be created within any child classes built from the abstract class. \n",
    "# A class which contains one or more abstract methods is called an abstract class. \n",
    "# An abstract method is a method that has a declaration but does not have an implementation. \n",
    "# While we are designing large functional units we use an abstract class. \n",
    "# When we want to provide a common interface for different implementations of a component, we use an abstract class.\n",
    "\n",
    "from abc import ABC, abstractmethod\n",
    "\n",
    "class Polygon(ABC):\n",
    "\n",
    "    @abstractmethod\n",
    "    def noofsides(self):\n",
    "        pass\n",
    "\n",
    "class Triangle(Polygon):\n",
    "\n",
    "    def noofsides(self):\n",
    "        print(\"It has 3 sides\")\n",
    "\n",
    "class Pentagon(Polygon):\n",
    "    \n",
    "    def noofsides(self):\n",
    "        print(\"It has 5 sides\")\n",
    "\n",
    "\n",
    "R = Triangle()\n",
    "R.noofsides()\n",
    "\n",
    "\n",
    "R = Pentagon()\n",
    "R.noofsides()\n",
    "\n"
   ]
  },
  {
   "cell_type": "code",
   "execution_count": 35,
   "id": "76b254bd",
   "metadata": {},
   "outputs": [
    {
     "name": "stdout",
     "output_type": "stream",
     "text": [
      "In Class2\n"
     ]
    }
   ],
   "source": [
    "#When a class is derived from more than one base class it is called multiple Inheritance. \n",
    "#The derived class inherits all the features of the base case.\n",
    "\n",
    "class Class1:\n",
    "    def m(self):\n",
    "        print(\"In Class1\")\n",
    "\n",
    "class Class2(Class1):\n",
    "    def m(self):\n",
    "        print(\"In Class2\")\n",
    "\n",
    "class Class3(Class1):\n",
    "    def m(self):\n",
    "        print(\"In Class3\")\n",
    "\n",
    "class Class4(Class2, Class3):\n",
    "    pass\n",
    "\n",
    "obj = Class4()\n",
    "obj.m()\n"
   ]
  },
  {
   "cell_type": "code",
   "execution_count": 37,
   "id": "e6d95b71",
   "metadata": {},
   "outputs": [
    {
     "name": "stdout",
     "output_type": "stream",
     "text": [
      "Hello, this is before function execution\n",
      "This is inside the function !!\n",
      "This is after function execution\n"
     ]
    }
   ],
   "source": [
    "# Decorators are a very powerful and useful tool in Python since it allows programmers to modify the behaviour \n",
    "# of a function or class. Decorators allow us to wrap another function in order to extend the behaviour of \n",
    "# the wrapped function, without permanently modifying it.\n",
    "\n",
    "def hello_decorator(func):\n",
    "\n",
    "    def inner1():\n",
    "        print(\"Hello, this is before function execution\")\n",
    "        func()\n",
    "        print(\"This is after function execution\")\n",
    "    return inner1\n",
    "\n",
    "\n",
    "\n",
    "def function_to_be_used():\n",
    "    print(\"This is inside the function !!\")\n",
    "\n",
    "function_to_be_used = hello_decorator(function_to_be_used)\n",
    "function_to_be_used()\n"
   ]
  },
  {
   "cell_type": "code",
   "execution_count": null,
   "id": "00ea573c",
   "metadata": {},
   "outputs": [],
   "source": []
  }
 ],
 "metadata": {
  "kernelspec": {
   "display_name": "Python 3 (ipykernel)",
   "language": "python",
   "name": "python3"
  },
  "language_info": {
   "codemirror_mode": {
    "name": "ipython",
    "version": 3
   },
   "file_extension": ".py",
   "mimetype": "text/x-python",
   "name": "python",
   "nbconvert_exporter": "python",
   "pygments_lexer": "ipython3",
   "version": "3.9.7"
  }
 },
 "nbformat": 4,
 "nbformat_minor": 5
}
